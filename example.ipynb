{
 "cells": [
  {
   "cell_type": "markdown",
   "metadata": {},
   "source": [
    "Restarted brem_env (Python 3.10.15)"
   ]
  },
  {
   "cell_type": "markdown",
   "metadata": {},
   "source": [
    "# **BSEEJ: Example Workflow**\n",
    "\n",
    "This notebook demonstrates the use of the **BSEEJ** algorithm. The overal workflow of the includes preprocessing, training using the A2ML1 gene dataset and saving the results and information of the run. The user does not need to do these steps one by one. Instead it is enough to provide some main arguments: \n",
    "1. junction path which includes the junction files of the genes, so for running this example, it is enough to unzip A2ML1.zip file and give the path to the extracted junctions (equivalent to -p argument).\n",
    "2. A result path (equivalent to -o argument).\n",
    "3. Gene name which is used only for saving the results and namings, so it doesn't need to be exact names (equivalent to -g argument). \n",
    "4. Number of clusters (equivalent to -k argument).  \n",
    "\n",
    "## **Steps in the Workflow**\n",
    "\n",
    "1. **Setup and Configuration**  \n",
    "   - Install necessary dependencies and set up the Conda environment.\n",
    "   - Define parameters such as the number of clusters, dataset paths, and model hyperparameters.\n",
    "\n",
    "2. **Data Loading and Preprocessing**  \n",
    "   - Load `.junc` files containing gene junction data.\n",
    "   - Process the data to generate input structures like interval graphs, conflict matrices, and feature matrices.\n",
    "\n",
    "3. **Model Initialization**  \n",
    "   - Initialize the **Gene** object, representing the dataset.\n",
    "   - Set up the **Model** object with the desired hyperparameters for training.\n",
    "\n",
    "4. **Model Training**  \n",
    "   - Train the model using the Gibbs sampling algorithm:\n",
    "     - Update cluster assignments.\n",
    "     - Optimize model parameters (e.g., `theta`, `pi`, `beta`).\n",
    "     - Track convergence metrics such as log-likelihood.\n",
    "\n",
    "5. **Results Saving and Visualization**  \n",
    "   - Save outputs, including model parameters and cluster assignments.\n",
    "   - Then we can visualize convergence trends anc cluster information."
   ]
  },
  {
   "cell_type": "code",
   "execution_count": null,
   "metadata": {},
   "outputs": [],
   "source": [
    "# Step 1: Import dependencies\n",
    "import sys\n",
    "from BSEEJ.gene import Gene\n",
    "from BSEEJ.model import Model\n",
    "from utilities import save_results"
   ]
  },
  {
   "cell_type": "code",
   "execution_count": null,
   "metadata": {},
   "outputs": [],
   "source": [
    "# Step 2: Import the Main class\n",
    "from bseej import Main"
   ]
  },
  {
   "cell_type": "code",
   "execution_count": null,
   "metadata": {},
   "outputs": [],
   "source": [
    "# Step 3: give arguments\n",
    "args = [\n",
    "    \"bseej.py\",                   # Simulating the script name\n",
    "    \"-k\", \"3\",                    # Number of clusters\n",
    "    \"-p\", \"/labs/Aguiar/BSEEJ/A2ML1\",  # Path to gene data\n",
    "    \"-o\", \"/labs/Aguiar/BSEEJ/results\", # Path to results\n",
    "    \"-g\", \"A2ML1\"                 # Gene name\n",
    "]"
   ]
  },
  {
   "cell_type": "code",
   "execution_count": null,
   "metadata": {},
   "outputs": [
    {
     "name": "stdout",
     "output_type": "stream",
     "text": [
      "=====================================================\n",
      "Gene: A2ML1\n",
      "junction path: /labs/Aguiar/BSEEJ/A2ML1\n",
      "result path: /labs/Aguiar/BSEEJ/results\n",
      "Number of clusters: 3\n",
      "Maximum number of iterations: 1000\n",
      "model parameter, eta: 0.01\n",
      "model parameter, alpha: 1\n",
      "model parameter, r: 1\n",
      "model parameter, s: 1\n",
      "=====================================================\n",
      "training gene A2ML1 with k = 3\n",
      "Gene A2ML1 , Iteration 0 , Likelihood = -45238.2731 , Converged: False\n",
      "Gene A2ML1 , Iteration 100 , Likelihood = -23215.0153 , Converged: False\n",
      "Gene A2ML1 , Iteration 200 , Likelihood = -23670.9603 , Converged: False\n",
      "Gene A2ML1 , Iteration 300 , Likelihood = -24367.3119 , Converged: False\n",
      "Gene A2ML1 , Iteration 400 , Likelihood = -24807.777 , Converged: False\n",
      "Gene A2ML1 , Iteration 500 , Likelihood = -25005.5194 , Converged: True\n",
      "Gene A2ML1 , Iteration 600 , Likelihood = -25221.8276 , Converged: True\n",
      "Saving the results for gene A2ML1\n",
      "/labs/Aguiar/BSEEJ/results/A2ML1/run_info_gene_A2ML1_alpha_1_eta_0.01_epsilon_1e-06_rs_1_K_3.pkl saved.\n",
      "/labs/Aguiar/BSEEJ/results/A2ML1/bseej_A2ML1_K_3.csv saved.\n"
     ]
    }
   ],
   "source": [
    "# Step 4: Run the Main function\n",
    "Main.main(args)"
   ]
  }
 ],
 "metadata": {
  "kernelspec": {
   "display_name": "brem_env",
   "language": "python",
   "name": "python3"
  },
  "language_info": {
   "codemirror_mode": {
    "name": "ipython",
    "version": 3
   },
   "file_extension": ".py",
   "mimetype": "text/x-python",
   "name": "python",
   "nbconvert_exporter": "python",
   "pygments_lexer": "ipython3",
   "version": "3.10.15"
  }
 },
 "nbformat": 4,
 "nbformat_minor": 2
}
